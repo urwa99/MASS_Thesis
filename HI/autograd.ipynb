{
 "cells": [
  {
   "cell_type": "code",
   "execution_count": 1,
   "id": "ce330497",
   "metadata": {},
   "outputs": [],
   "source": [
    "import autograd.numpy as np\n",
    "from autograd import grad\n"
   ]
  },
  {
   "cell_type": "code",
   "execution_count": 2,
   "id": "1f327035",
   "metadata": {},
   "outputs": [],
   "source": [
    "nside=256\n",
    "freqs=np.arange(544,1088,step=1)\n",
    "# nfreqs=len(freqs)\n",
    "nfreqs=181\n",
    "lmax=3*nside -1\n",
    "r=3 #foreground model rank\n",
    "nbins=76"
   ]
  },
  {
   "cell_type": "code",
   "execution_count": 3,
   "id": "78421f4a",
   "metadata": {},
   "outputs": [],
   "source": [
    "x=np.load('/home/iloveorcas/MASS_Thesis/results/ff_maps.npy')"
   ]
  },
  {
   "cell_type": "code",
   "execution_count": 5,
   "id": "3d5f1c50",
   "metadata": {},
   "outputs": [
    {
     "name": "stdout",
     "output_type": "stream",
     "text": [
      "(76, 181, 181)\n"
     ]
    }
   ],
   "source": [
    "noise_binned= np.load('/home/iloveorcas/MASS_Thesis/results/noise_binned.npy')\n",
    "hi_binned= np.load('/home/iloveorcas/MASS_Thesis/results/hi_binned.npy')\n",
    "c_hat=np.load('/home/iloveorcas/MASS_Thesis/results/binned_empirical.npy')\n",
    "print(hi_binned.shape)"
   ]
  },
  {
   "cell_type": "code",
   "execution_count": 8,
   "id": "7aa428ca",
   "metadata": {},
   "outputs": [],
   "source": [
    "\n",
    "def smica_new(params,hi, noise, empirical,  n_bins, nfreqs, r):\n",
    "    \n",
    "    # Reshape the flattened params back into F_init and P_b_init\n",
    "    \n",
    "    F = params[:nfreqs * r].reshape((nfreqs, r))\n",
    "    P_b = params[nfreqs * r:].reshape((n_bins,r,r))\n",
    "    \n",
    "    \n",
    "    \"\"\"# === Normalize columns of F and rescale P accordingly ===\n",
    "    for i in range(r):\n",
    "        norm = np.linalg.norm(F[:, i])\n",
    "\n",
    "        F[:, i] /= norm  # normalize column\n",
    "        for b in range(n_bins):\n",
    "            P_b[b, i, :] *= norm\n",
    "            P_b[b, :, i] *= norm  # symmetric scaling\"\"\"\n",
    "    \n",
    "    \n",
    "    # norm = np.linalg.norm(F, axis=0)\n",
    "    \n",
    "    # # Normalize F\n",
    "    # F_normalized = F / norm        \n",
    "    # # Adjust P_b: D^{-1} P_b D^{-1}\n",
    "    # D_inv = np.diag(1.0 / norm)\n",
    "    # for b in range(n_bins):\n",
    "    #     P_b[b] = D_inv @ P_b[b] @ D_inv\n",
    "                \n",
    "    # === Compute the cost function ===            \n",
    "    cost=0\n",
    "    # model=np.zeros((n_bins, nfreqs, nfreqs))\n",
    "    # model_inv=np.zeros((n_bins, nfreqs, nfreqs))\n",
    "    \n",
    "    # term=np.zeros(n_bins)\n",
    "    for b in range(n_bins):\n",
    "        model= hi[b] + noise[b] + np.dot(F, np.dot(P_b[b], F.T))\n",
    "        model_inv= np.linalg.inv(model)\n",
    "        \n",
    "        sign, logdet= np.linalg.slogdet(np.dot(empirical[b],model_inv))\n",
    "        trace=np.trace(np.dot(empirical[b] , model_inv))\n",
    "        \n",
    "        term = logdet + trace -nfreqs\n",
    "        cost += term\n",
    "        \n",
    "    return cost\n",
    "\n",
    "\n"
   ]
  },
  {
   "cell_type": "code",
   "execution_count": 9,
   "id": "401ad308",
   "metadata": {},
   "outputs": [],
   "source": [
    "def pca_new(empirical, r, n_bins):\n",
    "    \"\"\"\n",
    "    Perform PCA on the covariance matrix.\n",
    "    \n",
    "    Parameters:\n",
    "    ----------\n",
    "    c_hat : np.ndarray\n",
    "        Covariance matrix of shape (n_bins, n_freq, n_freq).\n",
    "    \n",
    "    r : int\n",
    "        Number of principal components to retain.\n",
    "    \n",
    "    Returns:\n",
    "    -------\n",
    "    F : np.ndarray\n",
    "        Matrix of shape (n_freq, r) containing the principal components.\n",
    "    \n",
    "    P_b : np.ndarray\n",
    "        Matrix of shape (n_bins, r, r) containing the eigenvalues and eigenvectors.\n",
    "    \"\"\"\n",
    "    # Perform PCA\n",
    "    R_global = np.mean(empirical, axis=0)  # c_hat has shape (n_bins, n_freqs, n_freqs)\n",
    "    #eigen decompositiom\n",
    "    eigvals, eigvecs = np.linalg.eigh(R_global) #ascending order\n",
    "    #Take the top r eigenvectors:\n",
    "    F = eigvecs[:, -r:]  # largest eigenvectors\n",
    "\n",
    "    P_b = np.zeros((n_bins, r, r))\n",
    "    for b in range(n_bins):\n",
    "        P_b[b] =np.dot( F.T , np.dot(empirical[b] , F))\n",
    "        P_b[b] = 0.5 * (P_b[b] + P_b[b].T)\n",
    "    return eigvals,F, P_b"
   ]
  },
  {
   "cell_type": "code",
   "execution_count": 10,
   "id": "a74a0fe5",
   "metadata": {},
   "outputs": [
    {
     "name": "stdout",
     "output_type": "stream",
     "text": [
      "(181, 3)\n",
      "(76, 3, 3)\n",
      "[  -86.77678482   -21.32990707  -516.09544222 ...   -74.84042524\n",
      "  -272.96553058 -2088.48522816]\n",
      "(1227,)\n"
     ]
    }
   ],
   "source": [
    "_,F_pca_new, P_b_pca_new = pca_new(c_hat,r, nbins)\n",
    "print(F_pca_new.shape) \n",
    "print(P_b_pca_new.shape)\n",
    "params_pca = np.concatenate([F_pca_new.flatten(), P_b_pca_new.flatten()])\n",
    "auto_grad=grad(smica_new,argnum=0)\n",
    "answer=auto_grad(params_pca,hi_binned, noise_binned, c_hat, nbins, nfreqs, r)\n",
    "\n",
    "print(answer)\n",
    "print(answer.shape)"
   ]
  },
  {
   "cell_type": "code",
   "execution_count": 11,
   "id": "6cac1446",
   "metadata": {},
   "outputs": [
    {
     "name": "stdout",
     "output_type": "stream",
     "text": [
      "-1707.294929961676\n"
     ]
    }
   ],
   "source": [
    "phi=smica_new(params_pca, hi_binned, noise_binned, c_hat, nbins, nfreqs, r)\n",
    "print(phi)"
   ]
  },
  {
   "cell_type": "code",
   "execution_count": 12,
   "id": "88ea48eb",
   "metadata": {},
   "outputs": [
    {
     "name": "stdout",
     "output_type": "stream",
     "text": [
      "Gradient of sin(pi) is -0.9998995297042174\n"
     ]
    }
   ],
   "source": [
    "def taylor_sine(x,y):  # Taylor approximation to sine function\n",
    "    ans = currterm = x\n",
    "    i = 0\n",
    "    while np.abs(currterm) > 0.001:\n",
    "        currterm = -currterm * x**2*y**2 / ((2 * i + 3) * (2 * i + 2))\n",
    "        ans = ans + currterm\n",
    "        i += 1\n",
    "    return ans\n",
    "\n",
    "grad_sine = grad(taylor_sine)\n",
    "print (\"Gradient of sin(pi) is\", grad_sine(np.pi, 1))"
   ]
  },
  {
   "cell_type": "code",
   "execution_count": 9,
   "id": "1d6c186a",
   "metadata": {},
   "outputs": [
    {
     "name": "stdout",
     "output_type": "stream",
     "text": [
      "Gradient of sin(pi) is -1.9997990594084347\n"
     ]
    }
   ],
   "source": [
    "def taylor_sine(x,y):  # Taylor approximation to sine function\n",
    "    ans = currterm = x\n",
    "    i = 0\n",
    "    while np.abs(currterm) > 0.001:\n",
    "        currterm = -currterm * x**2 / ((2 * i + 3) * (2 * i + 2))\n",
    "        ans = ans + currterm\n",
    "        i += 1\n",
    "    return ans*y\n",
    "\n",
    "grad_sine = grad(taylor_sine)\n",
    "print (\"Gradient of sin(pi) is\", grad_sine(np.pi,2))"
   ]
  },
  {
   "cell_type": "code",
   "execution_count": 13,
   "id": "a86e5a74",
   "metadata": {},
   "outputs": [],
   "source": [
    "f = lambda x: smica_new(x,hi=hi_binned, noise=noise_binned, empirical=c_hat, n_bins=nbins, nfreqs=nfreqs, r=r)\n",
    "grad_f = lambda x: auto_grad(x,hi=hi_binned, noise=noise_binned, empirical=c_hat, n_bins=nbins, nfreqs=nfreqs, r=r)"
   ]
  },
  {
   "cell_type": "code",
   "execution_count": 28,
   "id": "35e7ca43",
   "metadata": {},
   "outputs": [],
   "source": [
    "def taylor_test(cost, grad_cost, params, epsilons=None):\n",
    "    if epsilons is None:\n",
    "        epsilons = [1e-1, 1e-2, 1e-3, 1e-4, 1e-5] #stepsize\n",
    "\n",
    "    np.random.seed(0)\n",
    "    h = np.random.randn(*params.shape)\n",
    "    h /= np.linalg.norm(h)  #unit vector\n",
    "\n",
    "    # f0 = cost(params) #at a point x0\n",
    "    f0=phi\n",
    "    # grad0 = grad_cost(params) \n",
    "    grad0 =answer\n",
    "    directional_derivative = np.dot(grad0.T, h)\n",
    "\n",
    "    for eps in epsilons:\n",
    "        f_eps = cost(params + eps * h)\n",
    "        residual = abs(f_eps - f0 - eps * directional_derivative)\n",
    "        sum= np.abs(f_eps - f0)\n",
    "        print(f\"epsilon = {eps:.1e}, Residual = {residual:.2e}, Residual/epsilon = {residual/eps:.2e}\")\n",
    "        print(sum)"
   ]
  },
  {
   "cell_type": "markdown",
   "id": "6ba5c662",
   "metadata": {},
   "source": [
    "taylor test for autograd"
   ]
  },
  {
   "cell_type": "code",
   "execution_count": 29,
   "id": "31274d0b",
   "metadata": {},
   "outputs": [
    {
     "name": "stdout",
     "output_type": "stream",
     "text": [
      "epsilon = 1.0e-01, Residual = 8.66e+03, Residual/epsilon = 8.66e+04\n",
      "7878.158988054337\n",
      "epsilon = 1.0e-02, Residual = 8.07e+01, Residual/epsilon = 8.07e+03\n",
      "158.79975161790276\n",
      "epsilon = 1.0e-03, Residual = 5.46e+00, Residual/epsilon = 5.46e+03\n",
      "2.351776621896761\n",
      "epsilon = 1.0e-04, Residual = 3.12e+00, Residual/epsilon = 3.12e+04\n",
      "2.3418619306130495\n",
      "epsilon = 1.0e-05, Residual = 2.67e+00, Residual/epsilon = 2.67e+05\n",
      "2.752051278647059\n"
     ]
    }
   ],
   "source": [
    "taylor_test(f, grad_f, params_pca)"
   ]
  },
  {
   "cell_type": "code",
   "execution_count": null,
   "id": "efdfa01d",
   "metadata": {},
   "outputs": [
    {
     "ename": "KeyboardInterrupt",
     "evalue": "",
     "output_type": "error",
     "traceback": [
      "\u001b[0;31m---------------------------------------------------------------------------\u001b[0m",
      "\u001b[0;31mKeyboardInterrupt\u001b[0m                         Traceback (most recent call last)",
      "Cell \u001b[0;32mIn[21], line 2\u001b[0m\n\u001b[1;32m      1\u001b[0m \u001b[38;5;28;01mfrom\u001b[39;00m \u001b[38;5;21;01mscipy\u001b[39;00m\u001b[38;5;21;01m.\u001b[39;00m\u001b[38;5;21;01moptimize\u001b[39;00m \u001b[38;5;28;01mimport\u001b[39;00m approx_fprime\n\u001b[0;32m----> 2\u001b[0m approx_grad \u001b[38;5;241m=\u001b[39m \u001b[43mapprox_fprime\u001b[49m\u001b[43m(\u001b[49m\u001b[43mparams_pca\u001b[49m\u001b[43m,\u001b[49m\u001b[43m \u001b[49m\u001b[43mf\u001b[49m\u001b[43m,\u001b[49m\u001b[43m \u001b[49m\u001b[43mepsilon\u001b[49m\u001b[38;5;241;43m=\u001b[39;49m\u001b[38;5;241;43m1e-6\u001b[39;49m\u001b[43m)\u001b[49m \u001b[38;5;66;03m#finite differences\u001b[39;00m\n\u001b[1;32m      3\u001b[0m \u001b[38;5;28mprint\u001b[39m(approx_grad) \u001b[38;5;66;03m#4mins\u001b[39;00m\n",
      "File \u001b[0;32m~/.local/lib/python3.10/site-packages/scipy/optimize/_optimize.py:1030\u001b[0m, in \u001b[0;36mapprox_fprime\u001b[0;34m(xk, f, epsilon, *args)\u001b[0m\n\u001b[1;32m   1027\u001b[0m xk \u001b[38;5;241m=\u001b[39m np\u001b[38;5;241m.\u001b[39masarray(xk, \u001b[38;5;28mfloat\u001b[39m)\n\u001b[1;32m   1028\u001b[0m f0 \u001b[38;5;241m=\u001b[39m f(xk, \u001b[38;5;241m*\u001b[39margs)\n\u001b[0;32m-> 1030\u001b[0m \u001b[38;5;28;01mreturn\u001b[39;00m \u001b[43mapprox_derivative\u001b[49m\u001b[43m(\u001b[49m\u001b[43mf\u001b[49m\u001b[43m,\u001b[49m\u001b[43m \u001b[49m\u001b[43mxk\u001b[49m\u001b[43m,\u001b[49m\u001b[43m \u001b[49m\u001b[43mmethod\u001b[49m\u001b[38;5;241;43m=\u001b[39;49m\u001b[38;5;124;43m'\u001b[39;49m\u001b[38;5;124;43m2-point\u001b[39;49m\u001b[38;5;124;43m'\u001b[39;49m\u001b[43m,\u001b[49m\u001b[43m \u001b[49m\u001b[43mabs_step\u001b[49m\u001b[38;5;241;43m=\u001b[39;49m\u001b[43mepsilon\u001b[49m\u001b[43m,\u001b[49m\n\u001b[1;32m   1031\u001b[0m \u001b[43m                         \u001b[49m\u001b[43margs\u001b[49m\u001b[38;5;241;43m=\u001b[39;49m\u001b[43margs\u001b[49m\u001b[43m,\u001b[49m\u001b[43m \u001b[49m\u001b[43mf0\u001b[49m\u001b[38;5;241;43m=\u001b[39;49m\u001b[43mf0\u001b[49m\u001b[43m)\u001b[49m\n",
      "File \u001b[0;32m~/.local/lib/python3.10/site-packages/scipy/optimize/_numdiff.py:523\u001b[0m, in \u001b[0;36mapprox_derivative\u001b[0;34m(fun, x0, method, rel_step, abs_step, f0, bounds, sparsity, as_linear_operator, args, kwargs)\u001b[0m\n\u001b[1;32m    520\u001b[0m     use_one_sided \u001b[38;5;241m=\u001b[39m \u001b[38;5;28;01mFalse\u001b[39;00m\n\u001b[1;32m    522\u001b[0m \u001b[38;5;28;01mif\u001b[39;00m sparsity \u001b[38;5;129;01mis\u001b[39;00m \u001b[38;5;28;01mNone\u001b[39;00m:\n\u001b[0;32m--> 523\u001b[0m     \u001b[38;5;28;01mreturn\u001b[39;00m \u001b[43m_dense_difference\u001b[49m\u001b[43m(\u001b[49m\u001b[43mfun_wrapped\u001b[49m\u001b[43m,\u001b[49m\u001b[43m \u001b[49m\u001b[43mx0\u001b[49m\u001b[43m,\u001b[49m\u001b[43m \u001b[49m\u001b[43mf0\u001b[49m\u001b[43m,\u001b[49m\u001b[43m \u001b[49m\u001b[43mh\u001b[49m\u001b[43m,\u001b[49m\n\u001b[1;32m    524\u001b[0m \u001b[43m                             \u001b[49m\u001b[43muse_one_sided\u001b[49m\u001b[43m,\u001b[49m\u001b[43m \u001b[49m\u001b[43mmethod\u001b[49m\u001b[43m)\u001b[49m\n\u001b[1;32m    525\u001b[0m \u001b[38;5;28;01melse\u001b[39;00m:\n\u001b[1;32m    526\u001b[0m     \u001b[38;5;28;01mif\u001b[39;00m \u001b[38;5;129;01mnot\u001b[39;00m issparse(sparsity) \u001b[38;5;129;01mand\u001b[39;00m \u001b[38;5;28mlen\u001b[39m(sparsity) \u001b[38;5;241m==\u001b[39m \u001b[38;5;241m2\u001b[39m:\n",
      "File \u001b[0;32m~/.local/lib/python3.10/site-packages/scipy/optimize/_numdiff.py:596\u001b[0m, in \u001b[0;36m_dense_difference\u001b[0;34m(fun, x0, f0, h, use_one_sided, method)\u001b[0m\n\u001b[1;32m    594\u001b[0m     x1[i] \u001b[38;5;241m+\u001b[39m\u001b[38;5;241m=\u001b[39m h[i]\n\u001b[1;32m    595\u001b[0m     dx \u001b[38;5;241m=\u001b[39m x1[i] \u001b[38;5;241m-\u001b[39m x0[i]  \u001b[38;5;66;03m# Recompute dx as exactly representable number.\u001b[39;00m\n\u001b[0;32m--> 596\u001b[0m     df \u001b[38;5;241m=\u001b[39m \u001b[43mfun\u001b[49m\u001b[43m(\u001b[49m\u001b[43mx1\u001b[49m\u001b[43m)\u001b[49m \u001b[38;5;241m-\u001b[39m f0\n\u001b[1;32m    597\u001b[0m \u001b[38;5;28;01melif\u001b[39;00m method \u001b[38;5;241m==\u001b[39m \u001b[38;5;124m'\u001b[39m\u001b[38;5;124m3-point\u001b[39m\u001b[38;5;124m'\u001b[39m \u001b[38;5;129;01mand\u001b[39;00m use_one_sided[i]:\n\u001b[1;32m    598\u001b[0m     x1[i] \u001b[38;5;241m+\u001b[39m\u001b[38;5;241m=\u001b[39m h[i]\n",
      "File \u001b[0;32m~/.local/lib/python3.10/site-packages/scipy/optimize/_numdiff.py:474\u001b[0m, in \u001b[0;36mapprox_derivative.<locals>.fun_wrapped\u001b[0;34m(x)\u001b[0m\n\u001b[1;32m    471\u001b[0m \u001b[38;5;28;01mif\u001b[39;00m xp\u001b[38;5;241m.\u001b[39misdtype(x\u001b[38;5;241m.\u001b[39mdtype, \u001b[38;5;124m\"\u001b[39m\u001b[38;5;124mreal floating\u001b[39m\u001b[38;5;124m\"\u001b[39m):\n\u001b[1;32m    472\u001b[0m     x \u001b[38;5;241m=\u001b[39m xp\u001b[38;5;241m.\u001b[39mastype(x, x0\u001b[38;5;241m.\u001b[39mdtype)\n\u001b[0;32m--> 474\u001b[0m f \u001b[38;5;241m=\u001b[39m np\u001b[38;5;241m.\u001b[39matleast_1d(\u001b[43mfun\u001b[49m\u001b[43m(\u001b[49m\u001b[43mx\u001b[49m\u001b[43m,\u001b[49m\u001b[43m \u001b[49m\u001b[38;5;241;43m*\u001b[39;49m\u001b[43margs\u001b[49m\u001b[43m,\u001b[49m\u001b[43m \u001b[49m\u001b[38;5;241;43m*\u001b[39;49m\u001b[38;5;241;43m*\u001b[39;49m\u001b[43mkwargs\u001b[49m\u001b[43m)\u001b[49m)\n\u001b[1;32m    475\u001b[0m \u001b[38;5;28;01mif\u001b[39;00m f\u001b[38;5;241m.\u001b[39mndim \u001b[38;5;241m>\u001b[39m \u001b[38;5;241m1\u001b[39m:\n\u001b[1;32m    476\u001b[0m     \u001b[38;5;28;01mraise\u001b[39;00m \u001b[38;5;167;01mRuntimeError\u001b[39;00m(\u001b[38;5;124m\"\u001b[39m\u001b[38;5;124m`fun` return value has \u001b[39m\u001b[38;5;124m\"\u001b[39m\n\u001b[1;32m    477\u001b[0m                        \u001b[38;5;124m\"\u001b[39m\u001b[38;5;124mmore than 1 dimension.\u001b[39m\u001b[38;5;124m\"\u001b[39m)\n",
      "Cell \u001b[0;32mIn[13], line 1\u001b[0m, in \u001b[0;36m<lambda>\u001b[0;34m(x)\u001b[0m\n\u001b[0;32m----> 1\u001b[0m f \u001b[38;5;241m=\u001b[39m \u001b[38;5;28;01mlambda\u001b[39;00m x: \u001b[43msmica_new\u001b[49m\u001b[43m(\u001b[49m\u001b[43mx\u001b[49m\u001b[43m,\u001b[49m\u001b[43mhi\u001b[49m\u001b[38;5;241;43m=\u001b[39;49m\u001b[43mhi_binned\u001b[49m\u001b[43m,\u001b[49m\u001b[43m \u001b[49m\u001b[43mnoise\u001b[49m\u001b[38;5;241;43m=\u001b[39;49m\u001b[43mnoise_binned\u001b[49m\u001b[43m,\u001b[49m\u001b[43m \u001b[49m\u001b[43mempirical\u001b[49m\u001b[38;5;241;43m=\u001b[39;49m\u001b[43mc_hat\u001b[49m\u001b[43m,\u001b[49m\u001b[43m \u001b[49m\u001b[43mn_bins\u001b[49m\u001b[38;5;241;43m=\u001b[39;49m\u001b[43mnbins\u001b[49m\u001b[43m,\u001b[49m\u001b[43m \u001b[49m\u001b[43mnfreqs\u001b[49m\u001b[38;5;241;43m=\u001b[39;49m\u001b[43mnfreqs\u001b[49m\u001b[43m,\u001b[49m\u001b[43m \u001b[49m\u001b[43mr\u001b[49m\u001b[38;5;241;43m=\u001b[39;49m\u001b[43mr\u001b[49m\u001b[43m)\u001b[49m\n\u001b[1;32m      2\u001b[0m grad_f \u001b[38;5;241m=\u001b[39m \u001b[38;5;28;01mlambda\u001b[39;00m x: auto_grad(x,hi\u001b[38;5;241m=\u001b[39mhi_binned, noise\u001b[38;5;241m=\u001b[39mnoise_binned, empirical\u001b[38;5;241m=\u001b[39mc_hat, n_bins\u001b[38;5;241m=\u001b[39mnbins, nfreqs\u001b[38;5;241m=\u001b[39mnfreqs, r\u001b[38;5;241m=\u001b[39mr)\n",
      "Cell \u001b[0;32mIn[8], line 36\u001b[0m, in \u001b[0;36msmica_new\u001b[0;34m(params, hi, noise, empirical, n_bins, nfreqs, r)\u001b[0m\n\u001b[1;32m     34\u001b[0m \u001b[38;5;28;01mfor\u001b[39;00m b \u001b[38;5;129;01min\u001b[39;00m \u001b[38;5;28mrange\u001b[39m(n_bins):\n\u001b[1;32m     35\u001b[0m     model\u001b[38;5;241m=\u001b[39m hi[b] \u001b[38;5;241m+\u001b[39m noise[b] \u001b[38;5;241m+\u001b[39m np\u001b[38;5;241m.\u001b[39mdot(F, np\u001b[38;5;241m.\u001b[39mdot(P_b[b], F\u001b[38;5;241m.\u001b[39mT))\n\u001b[0;32m---> 36\u001b[0m     model_inv\u001b[38;5;241m=\u001b[39m \u001b[43mnp\u001b[49m\u001b[38;5;241;43m.\u001b[39;49m\u001b[43mlinalg\u001b[49m\u001b[38;5;241;43m.\u001b[39;49m\u001b[43minv\u001b[49m\u001b[43m(\u001b[49m\u001b[43mmodel\u001b[49m\u001b[43m)\u001b[49m\n\u001b[1;32m     38\u001b[0m     sign, logdet\u001b[38;5;241m=\u001b[39m np\u001b[38;5;241m.\u001b[39mlinalg\u001b[38;5;241m.\u001b[39mslogdet(np\u001b[38;5;241m.\u001b[39mdot(empirical[b],model_inv))\n\u001b[1;32m     39\u001b[0m     trace\u001b[38;5;241m=\u001b[39mnp\u001b[38;5;241m.\u001b[39mtrace(np\u001b[38;5;241m.\u001b[39mdot(empirical[b] , model_inv))\n",
      "File \u001b[0;32m~/.local/lib/python3.10/site-packages/autograd/tracer.py:54\u001b[0m, in \u001b[0;36mprimitive.<locals>.f_wrapped\u001b[0;34m(*args, **kwargs)\u001b[0m\n\u001b[1;32m     52\u001b[0m     \u001b[38;5;28;01mreturn\u001b[39;00m new_box(ans, trace, node)\n\u001b[1;32m     53\u001b[0m \u001b[38;5;28;01melse\u001b[39;00m:\n\u001b[0;32m---> 54\u001b[0m     \u001b[38;5;28;01mreturn\u001b[39;00m \u001b[43mf_raw\u001b[49m\u001b[43m(\u001b[49m\u001b[38;5;241;43m*\u001b[39;49m\u001b[43margs\u001b[49m\u001b[43m,\u001b[49m\u001b[43m \u001b[49m\u001b[38;5;241;43m*\u001b[39;49m\u001b[38;5;241;43m*\u001b[39;49m\u001b[43mkwargs\u001b[49m\u001b[43m)\u001b[49m\n",
      "File \u001b[0;32m~/.local/lib/python3.10/site-packages/numpy/linalg/_linalg.py:609\u001b[0m, in \u001b[0;36minv\u001b[0;34m(a)\u001b[0m\n\u001b[1;32m    606\u001b[0m signature \u001b[38;5;241m=\u001b[39m \u001b[38;5;124m'\u001b[39m\u001b[38;5;124mD->D\u001b[39m\u001b[38;5;124m'\u001b[39m \u001b[38;5;28;01mif\u001b[39;00m isComplexType(t) \u001b[38;5;28;01melse\u001b[39;00m \u001b[38;5;124m'\u001b[39m\u001b[38;5;124md->d\u001b[39m\u001b[38;5;124m'\u001b[39m\n\u001b[1;32m    607\u001b[0m \u001b[38;5;28;01mwith\u001b[39;00m errstate(call\u001b[38;5;241m=\u001b[39m_raise_linalgerror_singular, invalid\u001b[38;5;241m=\u001b[39m\u001b[38;5;124m'\u001b[39m\u001b[38;5;124mcall\u001b[39m\u001b[38;5;124m'\u001b[39m,\n\u001b[1;32m    608\u001b[0m               over\u001b[38;5;241m=\u001b[39m\u001b[38;5;124m'\u001b[39m\u001b[38;5;124mignore\u001b[39m\u001b[38;5;124m'\u001b[39m, divide\u001b[38;5;241m=\u001b[39m\u001b[38;5;124m'\u001b[39m\u001b[38;5;124mignore\u001b[39m\u001b[38;5;124m'\u001b[39m, under\u001b[38;5;241m=\u001b[39m\u001b[38;5;124m'\u001b[39m\u001b[38;5;124mignore\u001b[39m\u001b[38;5;124m'\u001b[39m):\n\u001b[0;32m--> 609\u001b[0m     ainv \u001b[38;5;241m=\u001b[39m \u001b[43m_umath_linalg\u001b[49m\u001b[38;5;241;43m.\u001b[39;49m\u001b[43minv\u001b[49m\u001b[43m(\u001b[49m\u001b[43ma\u001b[49m\u001b[43m,\u001b[49m\u001b[43m \u001b[49m\u001b[43msignature\u001b[49m\u001b[38;5;241;43m=\u001b[39;49m\u001b[43msignature\u001b[49m\u001b[43m)\u001b[49m\n\u001b[1;32m    610\u001b[0m \u001b[38;5;28;01mreturn\u001b[39;00m wrap(ainv\u001b[38;5;241m.\u001b[39mastype(result_t, copy\u001b[38;5;241m=\u001b[39m\u001b[38;5;28;01mFalse\u001b[39;00m))\n",
      "\u001b[0;31mKeyboardInterrupt\u001b[0m: "
     ]
    }
   ],
   "source": [
    "# from scipy.optimize import approx_fprime\n",
    "# approx_grad = approx_fprime(params_pca, f, epsilon=1e-6) #finite differences\n",
    "# print(approx_grad) #4mins\n",
    "# #took 14 mins on yan's pc"
   ]
  },
  {
   "cell_type": "code",
   "execution_count": null,
   "id": "4cc83584",
   "metadata": {},
   "outputs": [],
   "source": [
    "fin_diff=np.load('approx_grad.npy') #from yan"
   ]
  },
  {
   "cell_type": "code",
   "execution_count": 16,
   "id": "9d3ead14",
   "metadata": {},
   "outputs": [
    {
     "data": {
      "text/plain": [
       "array([-6.44574911e+05,  1.06312433e+06,  2.66904942e+06, ...,\n",
       "       -7.48378766e+01, -2.72929322e+02, -2.08683645e+03], shape=(1227,))"
      ]
     },
     "execution_count": 16,
     "metadata": {},
     "output_type": "execute_result"
    }
   ],
   "source": [
    "fin_diff"
   ]
  },
  {
   "cell_type": "code",
   "execution_count": 18,
   "id": "6a34157d",
   "metadata": {},
   "outputs": [
    {
     "data": {
      "text/plain": [
       "array([  -86.77678482,   -21.32990707,  -516.09544222, ...,\n",
       "         -74.84042524,  -272.96553058, -2088.48522816], shape=(1227,))"
      ]
     },
     "execution_count": 18,
     "metadata": {},
     "output_type": "execute_result"
    }
   ],
   "source": [
    "answer"
   ]
  },
  {
   "cell_type": "code",
   "execution_count": 22,
   "id": "9cf84d51",
   "metadata": {},
   "outputs": [],
   "source": [
    "grad_approx = lambda x: approx_fprime(x,f=f, epsilon=1e-6)  # finite differences"
   ]
  },
  {
   "cell_type": "markdown",
   "id": "248814da",
   "metadata": {},
   "source": [
    "Taylor test with fin diff method"
   ]
  },
  {
   "cell_type": "code",
   "execution_count": 30,
   "id": "283264b6",
   "metadata": {},
   "outputs": [
    {
     "name": "stdout",
     "output_type": "stream",
     "text": [
      "epsilon = 1.0e-01, Residual = 8.66e+03, Residual/epsilon = 8.66e+04\n",
      "7878.158988054337\n",
      "epsilon = 1.0e-02, Residual = 8.07e+01, Residual/epsilon = 8.07e+03\n",
      "158.79975161790276\n",
      "epsilon = 1.0e-03, Residual = 5.46e+00, Residual/epsilon = 5.46e+03\n",
      "2.351776621896761\n",
      "epsilon = 1.0e-04, Residual = 3.12e+00, Residual/epsilon = 3.12e+04\n",
      "2.3418619306130495\n",
      "epsilon = 1.0e-05, Residual = 2.67e+00, Residual/epsilon = 2.67e+05\n",
      "2.752051278647059\n"
     ]
    }
   ],
   "source": [
    "taylor_test(f, grad_approx, params_pca)"
   ]
  }
 ],
 "metadata": {
  "kernelspec": {
   "display_name": "Python 3",
   "language": "python",
   "name": "python3"
  },
  "language_info": {
   "codemirror_mode": {
    "name": "ipython",
    "version": 3
   },
   "file_extension": ".py",
   "mimetype": "text/x-python",
   "name": "python",
   "nbconvert_exporter": "python",
   "pygments_lexer": "ipython3",
   "version": "3.10.12"
  }
 },
 "nbformat": 4,
 "nbformat_minor": 5
}
