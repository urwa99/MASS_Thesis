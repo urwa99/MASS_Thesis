{
 "cells": [
  {
   "cell_type": "code",
   "execution_count": 1,
   "id": "640b0b63",
   "metadata": {},
   "outputs": [],
   "source": [
    "import healpy as hp\n",
    "import matplotlib.pyplot as plt\n",
    "import numpy as np\n",
    "import pymaster as nmt\n",
    "from scipy import optimize\n",
    "from scipy.linalg import det\n",
    "import sys\n",
    "sys.path.append('../')\n",
    "\n",
    "from scripts.compute_covariance import compute_covariance"
   ]
  },
  {
   "cell_type": "code",
   "execution_count": 2,
   "id": "8a9f191c",
   "metadata": {},
   "outputs": [],
   "source": [
    "nside=256\n",
    "npix=hp.nside2npix(nside)\n",
    "freqs=np.arange(544,1088,step=10)\n",
    "nfreqs=len(freqs)-1\n",
    "lmax=3*nside -1\n",
    "almsize=hp.Alm.getsize(lmax)"
   ]
  },
  {
   "cell_type": "code",
   "execution_count": 3,
   "id": "5dd8fa15",
   "metadata": {},
   "outputs": [],
   "source": [
    "cl_hi_1=np.load(\"/home/iloveorcas/MASS_Thesis/HI/cal_hi_cov.npy\")\n",
    "cl_hi = np.transpose(cl_hi_1, (2, 0, 1))\n",
    "hi_maps= np.load(\"HI_map_cal.npy\")"
   ]
  },
  {
   "cell_type": "code",
   "execution_count": 4,
   "id": "a83c89be",
   "metadata": {},
   "outputs": [],
   "source": [
    "def bin_spectra(cl, delta):\n",
    "    b= nmt.NmtBin.from_lmax_linear(lmax, nlb=delta)\n",
    "    n_bins = b.get_n_bands()\n",
    "    leff = b.get_effective_ells()\n",
    "    cl_binned= np.zeros((n_bins, nfreqs, nfreqs))\n",
    "\n",
    "    for i in range(nfreqs):\n",
    "        for j in range(nfreqs):\n",
    "            cl_binned[:, i, j] = b.bin_cell(cl[:, i, j])\n",
    "            \n",
    "    return leff,n_bins,cl_binned"
   ]
  },
  {
   "cell_type": "code",
   "execution_count": 5,
   "id": "bfac32db",
   "metadata": {},
   "outputs": [],
   "source": [
    "leff, nbins,hi_binned= bin_spectra(cl_hi, 10)\n",
    "# *_,noise_binned= bin_spectra(cl_noise, 10)\n",
    "# *_, fgds_binned= bin_spectra(cl_fgds, 10)\n",
    "# total=hi_maps + noise_maps[:54]\n",
    "# cl_hat=compute_covariance(total, lmax, almsize, nfreqs)\n",
    "# *_, chat_binned= bin_spectra(cl_hat, 10)"
   ]
  },
  {
   "cell_type": "code",
   "execution_count": 6,
   "id": "33e36200",
   "metadata": {},
   "outputs": [],
   "source": [
    "def diagonalize_matrices(cl, nfreqs):\n",
    "    cl_diag=np.zeros((nbins, nfreqs, nfreqs))\n",
    "    for l in range (nbins):\n",
    "        #print(f\"Diagonalizing matrix {l}\")\n",
    "        cl_diag[l,:,:]= np.identity(nfreqs)*cl[l,:,:]\n",
    "    return cl_diag\n",
    "hi_d= diagonalize_matrices(hi_binned, nfreqs)\n",
    "#print(hi_d[10])"
   ]
  },
  {
   "cell_type": "code",
   "execution_count": 7,
   "id": "26b3ac00",
   "metadata": {},
   "outputs": [],
   "source": [
    "bins=5"
   ]
  },
  {
   "cell_type": "code",
   "execution_count": 8,
   "id": "a9f8594d",
   "metadata": {},
   "outputs": [],
   "source": [
    "def build_trapezoidal_basis(freqs, bin, top_width=0.5):\n",
    "    \"\"\"\n",
    "    Create trapezoidal basis functions (___/----\\___) on frequency grid.\n",
    "    \n",
    "    Parameters:\n",
    "    - freqs: 1D array of frequency bin centers (nf,)\n",
    "    - n_bins: number of trapezoidal functions (i.e., nq)\n",
    "    - top_width: fraction of bin width used for the flat top (0 < top_width < 1)\n",
    "\n",
    "    Returns:\n",
    "    - phi: shape (n_bins, nf), the basis matrix\n",
    "    \"\"\"\n",
    "    nf = len(freqs)\n",
    "    vmin, vmax = freqs[0], freqs[-1]\n",
    "    bin_edges = np.linspace(vmin, vmax, bins + 1)\n",
    "    bin_width = bin_edges[1] - bin_edges[0]\n",
    "    flat_top = top_width * bin_width\n",
    "    slope_width = (1 - top_width) * bin_width / 2  #slope= 1/slope_width\n",
    "\n",
    "    phi = np.zeros((bin, nf))\n",
    "\n",
    "    for i in range(bin):\n",
    "        # Define edges of the trapezoid\n",
    "        left = bin_edges[i] - slope_width\n",
    "        start_flat = bin_edges[i]\n",
    "        end_flat = bin_edges[i + 1]\n",
    "        right = bin_edges[i + 1] + slope_width\n",
    "\n",
    "        for j, v in enumerate(freqs):\n",
    "            if left <= v < start_flat:\n",
    "                phi[i, j] = (v - left) / slope_width\n",
    "            elif start_flat <= v <= end_flat:\n",
    "                phi[i, j] = 1.0\n",
    "            elif end_flat < v <= right:\n",
    "                phi[i, j] = (right - v) / slope_width\n",
    "            else:\n",
    "                phi[i, j] = 0.0\n",
    "\n",
    "    return phi\n"
   ]
  },
  {
   "cell_type": "markdown",
   "id": "58fccf4c",
   "metadata": {},
   "source": [
    "Building the parametric HI model"
   ]
  },
  {
   "cell_type": "code",
   "execution_count": 49,
   "id": "85171bd0",
   "metadata": {},
   "outputs": [
    {
     "name": "stdout",
     "output_type": "stream",
     "text": [
      "(5, 54)\n",
      "(4104,)\n",
      "4104\n",
      "(6, 5)\n",
      "(30,)\n"
     ]
    }
   ],
   "source": [
    "from itertools import product\n",
    "from numpy.linalg import lstsq\n",
    "\n",
    "P, Q = 5,bins-1  #degree\n",
    "v0=freqs[23]\n",
    "n=0.5\n",
    "\n",
    "# Step 1: Extract diagonal\n",
    "nell, nf, _ = hi_d.shape\n",
    "C_diag = np.array([np.diag(hi_d[i]) for i in range(nell)])  # shape (nell, nf)\n",
    "\n",
    "# Step 2: Log coordinates\n",
    "log_l = np.log10(leff)  # shape (nell,)\n",
    "log_v = np.log10(freqs[:-1])  # shape (nf,)\n",
    "scaling = (freqs[:-1] / v0)**(-n)  # shape (nf,)\n",
    "\n",
    "# Step 3: Build hat-shaped basis\n",
    "phi = build_trapezoidal_basis(freqs[:-1], bins)  # shape (nq, nf)\n",
    "# Unnormalized Psi: each row is φ_q(v) * scaling\n",
    "Psi_unnorm = phi * scaling[None, :]  # shape (nq, nf)\n",
    "\n",
    "# Normalize across q (rows) for each v (column)\n",
    "Psi = Psi_unnorm / Psi_unnorm.sum(axis=0, keepdims=True)\n",
    "print(Psi.shape)# shape (nq, nf)\n",
    "# Psi = phi * scaling[None, :]              # shape (nq, nf)\n",
    "\n",
    "# Step 4: Build coeff matrix\n",
    "basis_terms = list(product(range(P + 1), range(Q + 1))) # all (p, q) pairs (0,0), (0,1), ..., (P,Q)\n",
    "n_terms = len(basis_terms) # total number of basis functions (P + 1) * (Q + 1)\n",
    "\n",
    "X = np.zeros((nell * nf, n_terms))# rows = data points, cols = basis terms\n",
    "y = C_diag.reshape(-1) #flatten target values to shape (nell * nf,)\n",
    "print(y.shape)\n",
    "print(len(leff)*nf)\n",
    "\n",
    "for i, (p, q) in enumerate(basis_terms):\n",
    "    # Outer product: (nell,) x (nf,) → shape (nell, nf)\n",
    "    X[:, i] = np.outer(log_l**p, Psi[q,:]).reshape(-1)\n",
    "\n",
    "# Step 5: Solve least mean squares\n",
    "a_vec, residuals, rank, s = lstsq(X, y, rcond=471256)\n",
    "a_vec=a_vec/np.linalg.norm(a_vec)\n",
    "a_matrix = a_vec.reshape((P + 1, Q + 1))  # shape (P+1, Q+1)\n",
    "print(a_matrix.shape)\n",
    "print(a_vec.shape)\n",
    "\n",
    "# Step 6: Reconstruct the fitted diagonal\n",
    "C_fit_diag = np.zeros((nell, nf))\n",
    "for p in range(P + 1):\n",
    "    for q in range(Q + 1):\n",
    "        C_fit_diag +=a_matrix[p, q] * np.outer(log_l**p, Psi[q])\n",
    "\n",
    "# Step 7: Expand to full (nell, nf, nf) with diagonal only\n",
    "C_fit = np.zeros((nell, nf, nf))\n",
    "for i in range(nell):\n",
    "    np.fill_diagonal(C_fit[i], C_fit_diag[i])\n"
   ]
  },
  {
   "cell_type": "code",
   "execution_count": null,
   "id": "c83af3ef",
   "metadata": {},
   "outputs": [],
   "source": [
    "def loss(a):\n",
    "    a_mat = a.reshape((P + 1, Q + 1))  # reshape into coefficient matrix\n",
    "    C_model = np.zeros((nell, nf))    # predicted covariance diagonal\n",
    "    for p in range(P + 1):\n",
    "        for q in range(Q + 1):\n",
    "            C_model += a_mat[p, q] * np.outer(log_l**p, Psi[q])\n",
    "    r = ((C_model - C_fit_diag)).reshape(-1)   #/np.linalg.norm(C_fit_diag)).reshape(-1)  # residual\n",
    "    # r=X @ a - y  # residual vector\n",
    "    return 0.5* np.dot(r, r)           # MSE\n",
    "\n",
    "def grad_loss(a):\n",
    "    a_mat = a.reshape((P + 1, Q + 1))\n",
    "    C_model = np.zeros((nell, nf))\n",
    "    for p in range(P + 1):\n",
    "        for q in range(Q + 1):\n",
    "            C_model += a_mat[p, q] * np.outer(log_l**p, Psi[q])\n",
    "    r = (C_model - C_fit_diag)\n",
    "\n",
    "    grad = np.zeros_like(a_mat)\n",
    "    for p in range(P + 1):\n",
    "        log_term = log_l**p  # shape (nell,)\n",
    "        for q in range(Q + 1):\n",
    "            psi_term = Psi[q]  # shape (nf,)\n",
    "            grad[p, q] = np.sum(r * np.outer(log_term, psi_term))\n",
    "    return grad.reshape(-1)"
   ]
  },
  {
   "cell_type": "code",
   "execution_count": 164,
   "id": "89ccfa8a",
   "metadata": {},
   "outputs": [],
   "source": [
    "from numpy.linalg import slogdet, inv\n",
    "\n",
    "y=(X@a_vec).reshape((nell, nf))\n",
    "C_y = np.zeros((nell, nf, nf))\n",
    "for i in range(nell):\n",
    "    np.fill_diagonal(C_y[i], y[i])\n",
    "    \n",
    "# # Example: equal weight for each ell bin\n",
    "# n_q = np.ones(nbins)  \n",
    "\n",
    "# # Or: number of modes in each ell bin\n",
    "# n_q = np.array([sum(2*l + 1 for l in range(nbins)) \n",
    "#                 for b in range(nbins)])\n",
    "\n",
    "def build_C_model(a):\n",
    "    # a_mat = a.reshape((P + 1, Q + 1))  # reshape into coefficient matrix\n",
    "    # C_model = np.zeros((nell, nf))    # predicted covariance diagonal\n",
    "    # for p in range(P + 1):\n",
    "    #     for q in range(Q + 1):\n",
    "    #         C_model += a_mat[p, q] * np.outer(log_l**p, Psi[q])\n",
    "    C_model=(X @a).reshape((nell, nf))\n",
    "    C_model_full = np.zeros((nell, nf, nf))\n",
    "    for i in range(nell):\n",
    "        np.fill_diagonal(C_model_full[i], C_model[i])\n",
    "\n",
    "    return C_model_full\n",
    "\n",
    "\n",
    "def smica_loss(a):\n",
    "    \n",
    "    loss = 0.0\n",
    "    C_model = build_C_model(a)\n",
    "    \n",
    "    for b in range(nbins):\n",
    "        C_emp = C_y[b] #+ 1e-3 * np.eye(nfreqs) # empirical HI covariance at that b\n",
    "        C_mod = C_model[b] #+ 1e-3 * np.eye(nfreqs)\n",
    "\n",
    "        sign, logdet = slogdet(C_emp @ np.linalg.inv(C_mod))\n",
    "        # if sign <= 0:\n",
    "        #     return np.inf  # invalid logdet => reject this parameter set\n",
    "        trace_term = np.trace(C_emp @ np.linalg.inv(C_mod))\n",
    "        loss +=  (trace_term - logdet - nfreqs)\n",
    "    return loss\n",
    "\n",
    "\n",
    "def jacobian(a):\n",
    "\n",
    "    C_model = build_C_model(a)  # shape (nell, nf, nf)\n",
    "    grad = np.zeros((P+1, Q+1))\n",
    "\n",
    "    for b in range(nbins):\n",
    "        C_emp = C_y[b]  #+ 1e-3 * np.eye(nfreqs)      # empirical (nf, nf)\n",
    "        C_mod = C_model[b]  #+ 1e-3 * np.eye(nfreqs)\n",
    "      # model (nf, nf)\n",
    "        C_mod_inv = np.linalg.inv(C_mod)\n",
    "\n",
    "        Delta = C_mod_inv - C_mod_inv @ C_emp @ C_mod_inv  # (nf, nf)\n",
    "\n",
    "        for p in range(P+1):\n",
    "            for q in range(Q+1):\n",
    "                dR = np.zeros_like(C_mod)\n",
    "                diag_val = (log_l[b]**p) * Psi[q]  # length nf\n",
    "                np.fill_diagonal(dR, diag_val)\n",
    "                grad[p, q] += np.trace(Delta @ dR)  # multiply by n_q[b] if needed\n",
    "\n",
    "    return grad.reshape(-1)\n",
    "\n"
   ]
  },
  {
   "cell_type": "code",
   "execution_count": 165,
   "id": "c7375fe1",
   "metadata": {},
   "outputs": [
    {
     "data": {
      "text/plain": [
       "np.float64(0.0)"
      ]
     },
     "execution_count": 165,
     "metadata": {},
     "output_type": "execute_result"
    }
   ],
   "source": [
    "smica_loss(a_vec)"
   ]
  },
  {
   "cell_type": "code",
   "execution_count": null,
   "id": "228b317f",
   "metadata": {},
   "outputs": [
    {
     "name": "stdout",
     "output_type": "stream",
     "text": [
      "Step 0, loss = 7.926760e+02, grad norm = 8.686e+07\n",
      "Step 1000, loss = 3.950181e+02, grad norm = 6.912e+06\n",
      "Step 2000, loss = 3.741726e+02, grad norm = 1.385e+06\n",
      "Step 3000, loss = 3.565160e+02, grad norm = 1.272e+06\n",
      "Step 4000, loss = 3.417141e+02, grad norm = 1.161e+06\n",
      "Step 5000, loss = 3.293976e+02, grad norm = 1.059e+06\n",
      "Step 6000, loss = 3.191308e+02, grad norm = 9.688e+05\n",
      "Step 7000, loss = 3.104912e+02, grad norm = 8.918e+05\n",
      "Step 8000, loss = 3.031152e+02, grad norm = 8.274e+05\n",
      "Step 9000, loss = 2.967136e+02, grad norm = 7.741e+05\n",
      "Step 10000, loss = 2.910679e+02, grad norm = 7.298e+05\n",
      "Step 11000, loss = 2.860170e+02, grad norm = 6.925e+05\n",
      "Step 12000, loss = 2.814442e+02, grad norm = 6.606e+05\n",
      "Step 13000, loss = 2.772645e+02, grad norm = 6.329e+05\n",
      "Step 14000, loss = 2.734150e+02, grad norm = 6.084e+05\n",
      "Step 15000, loss = 2.698485e+02, grad norm = 5.863e+05\n",
      "Step 16000, loss = 2.665283e+02, grad norm = 5.663e+05\n",
      "Step 17000, loss = 2.634255e+02, grad norm = 5.479e+05\n",
      "Step 18000, loss = 2.605163e+02, grad norm = 5.310e+05\n",
      "Step 19000, loss = 2.577809e+02, grad norm = 5.152e+05\n",
      "Step 20000, loss = 2.552023e+02, grad norm = 5.005e+05\n",
      "Step 21000, loss = 2.527659e+02, grad norm = 4.868e+05\n",
      "Step 22000, loss = 2.504589e+02, grad norm = 4.739e+05\n",
      "Step 23000, loss = 2.482700e+02, grad norm = 4.619e+05\n",
      "Step 24000, loss = 2.461893e+02, grad norm = 4.505e+05\n",
      "Step 25000, loss = 2.442077e+02, grad norm = 4.399e+05\n",
      "Step 26000, loss = 2.423172e+02, grad norm = 4.298e+05\n",
      "Step 27000, loss = 2.405108e+02, grad norm = 4.203e+05\n",
      "Step 28000, loss = 2.387820e+02, grad norm = 4.113e+05\n",
      "Step 29000, loss = 2.371251e+02, grad norm = 4.028e+05\n",
      "Step 30000, loss = 2.355348e+02, grad norm = 3.948e+05\n",
      "Step 31000, loss = 2.340064e+02, grad norm = 3.871e+05\n",
      "Step 32000, loss = 2.325358e+02, grad norm = 3.799e+05\n",
      "Step 33000, loss = 2.311190e+02, grad norm = 3.730e+05\n",
      "Step 34000, loss = 2.297526e+02, grad norm = 3.664e+05\n",
      "Step 35000, loss = 2.284335e+02, grad norm = 3.601e+05\n",
      "Step 36000, loss = 2.271587e+02, grad norm = 3.540e+05\n",
      "Step 37000, loss = 2.259257e+02, grad norm = 3.483e+05\n",
      "Step 38000, loss = 2.247320e+02, grad norm = 3.427e+05\n",
      "Step 39000, loss = 2.235754e+02, grad norm = 3.374e+05\n"
     ]
    }
   ],
   "source": [
    "a_current = 2* a_vec\n",
    "alpha = 1e-14\n",
    "tol_grad=1e-2\n",
    "\n",
    "for i in range(100000):\n",
    "    loss_current = smica_loss(a_current)\n",
    "    grad_current = jacobian(a_current)\n",
    "    grad_norm = np.linalg.norm(grad_current)\n",
    "    \n",
    "    # if grad_norm > 1e3:  # clip gradient norm or scale step\n",
    "    #     grad_current = grad_current / grad_norm * 1e3\n",
    "    \n",
    "    a_current = a_current - alpha * grad_current\n",
    "\n",
    "    if i % 1000 == 0:\n",
    "        print(f\"Step {i}, loss = {loss_current:.6e}, grad norm = {grad_norm:.3e}\")\n",
    "    if np.linalg.norm(grad_current) < tol_grad:\n",
    "        print(f\"Stopping at iter {i}: gradient small.\")\n",
    "        break\n",
    "\n"
   ]
  },
  {
   "cell_type": "code",
   "execution_count": 146,
   "id": "ea2dd1d2",
   "metadata": {},
   "outputs": [
    {
     "name": "stdout",
     "output_type": "stream",
     "text": [
      "Is model PSD? True\n"
     ]
    }
   ],
   "source": [
    "def is_psd(P, tol=0):\n",
    "    eigenvalues = np.linalg.eigvalsh(P)  # symmetric-optimized\n",
    "    return np.all(eigenvalues >= -tol) \n",
    "print(\"Is model PSD?\", is_psd(C_fit))"
   ]
  },
  {
   "cell_type": "code",
   "execution_count": 147,
   "id": "b34dd6e0",
   "metadata": {},
   "outputs": [
    {
     "data": {
      "text/plain": [
       "True"
      ]
     },
     "execution_count": 147,
     "metadata": {},
     "output_type": "execute_result"
    }
   ],
   "source": [
    "np.allclose(C_fit,build_C_model(a_vec))"
   ]
  },
  {
   "cell_type": "code",
   "execution_count": 109,
   "id": "10811aa7",
   "metadata": {},
   "outputs": [
    {
     "data": {
      "text/plain": [
       "np.float64(0.00022614624622632924)"
      ]
     },
     "execution_count": 109,
     "metadata": {},
     "output_type": "execute_result"
    }
   ],
   "source": [
    "np.min(np.linalg.eigvalsh(build_C_model(a_vec)))"
   ]
  },
  {
   "cell_type": "code",
   "execution_count": null,
   "id": "01670a0e",
   "metadata": {},
   "outputs": [],
   "source": [
    "from scipy.optimize import minimize\n",
    "\n",
    "res2 = minimize(smica_loss,a_vec,\n",
    "               jac=jacobian,\n",
    "               method='CG',\n",
    "               options={'disp': True, 'maxfun': 600000,'ftol': 1e-8, 'maxls':100000, 'gtol': 1e-8, 'maxiter': 12000}) #, 'maxls':100,'xtol': 1e-15, 'gtol': 1e-15, 'verbose': 2\n",
    "\n",
    "a_opt2 = res2.x.reshape((P+1, Q+1))"
   ]
  },
  {
   "cell_type": "code",
   "execution_count": 155,
   "id": "15100fd3",
   "metadata": {},
   "outputs": [
    {
     "name": "stdout",
     "output_type": "stream",
     "text": [
      "  message: CONVERGENCE: RELATIVE REDUCTION OF F <= FACTR*EPSMCH\n",
      "  success: True\n",
      "   status: 0\n",
      "      fun: -8.171241461241152e-14\n",
      "        x: [ 1.516e-01  7.698e-02 ... -1.314e-04  5.853e-05]\n",
      "      nit: 1\n",
      "      jac: [ 1.678e-01  6.788e-01 ...  1.128e+05  3.073e+05]\n",
      "     nfev: 837\n",
      "     njev: 27\n",
      " hess_inv: <30x30 LbfgsInvHessProduct with dtype=float64>\n"
     ]
    }
   ],
   "source": [
    "from pprint import pprint\n",
    "\n",
    "pprint(res2)"
   ]
  },
  {
   "cell_type": "code",
   "execution_count": 156,
   "id": "4a99a41f",
   "metadata": {},
   "outputs": [
    {
     "data": {
      "text/plain": [
       "<matplotlib.legend.Legend at 0xff7b133c2710>"
      ]
     },
     "execution_count": 156,
     "metadata": {},
     "output_type": "execute_result"
    },
    {
     "data": {
      "image/png": "[encoded data removed]",
      "text/plain": [
       "<Figure size 640x480 with 1 Axes>"
      ]
     },
     "metadata": {},
     "output_type": "display_data"
    }
   ],
   "source": [
    "a_smica= a_opt2.reshape((P+1, Q+1))\n",
    "C_smica= np.zeros((nell, nf))\n",
    "for p in range(P + 1):\n",
    "    for q in range(Q + 1):\n",
    "        C_smica += (a_smica[p, q]) * np.outer(log_l**p, Psi[q])\n",
    "\n",
    "\n",
    "\n",
    "plt.plot( C_smica[:,26], '.',label='Fitted')\n",
    "plt.plot( C_fit_diag[:,26], label='model')\n",
    "plt.legend()"
   ]
  }
 ],
 "metadata": {
  "kernelspec": {
   "display_name": "Python 3",
   "language": "python",
   "name": "python3"
  },
  "language_info": {
   "codemirror_mode": {
    "name": "ipython",
    "version": 3
   },
   "file_extension": ".py",
   "mimetype": "text/x-python",
   "name": "python",
   "nbconvert_exporter": "python",
   "pygments_lexer": "ipython3",
   "version": "3.10.12"
  }
 },
 "nbformat": 4,
 "nbformat_minor": 5
}
