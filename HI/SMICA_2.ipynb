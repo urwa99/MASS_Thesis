{
 "cells": [
  {
   "cell_type": "code",
   "execution_count": 1,
   "id": "bf2cf783",
   "metadata": {},
   "outputs": [],
   "source": [
    "import numpy as np\n",
    "import healpy as hp\n",
    "import pymaster as nmt\n",
    "from scipy import optimize\n",
    "from scipy.linalg import det\n",
    "import matplotlib.pyplot as plt\n"
   ]
  },
  {
   "cell_type": "code",
   "execution_count": 2,
   "id": "eec2604c",
   "metadata": {},
   "outputs": [],
   "source": [
    "nside=256\n",
    "freqs=np.arange(544,1088,step=1)\n",
    "# nfreqs=len(freqs)\n",
    "nfreqs=181\n",
    "lmax=2*nside #3*nside -1\n",
    "almsize=hp.Alm.getsize(lmax)\n",
    "r=3 #foreground model rank\n",
    "r_total=3\n",
    "n_bins=51"
   ]
  },
  {
   "cell_type": "code",
   "execution_count": 3,
   "id": "31f749dc",
   "metadata": {},
   "outputs": [
    {
     "data": {
      "text/plain": [
       "(51,)"
      ]
     },
     "execution_count": 3,
     "metadata": {},
     "output_type": "execute_result"
    }
   ],
   "source": [
    "b= nmt.NmtBin.from_lmax_linear(lmax, nlb=10)\n",
    "n_bins = b.get_n_bands()\n",
    "leff = b.get_effective_ells()\n",
    "leff.shape"
   ]
  },
  {
   "cell_type": "code",
   "execution_count": 4,
   "id": "39c3c9ab",
   "metadata": {},
   "outputs": [],
   "source": [
    "fgds_binned=np.load('/home/iloveorcas/MASS_Thesis/HI/fgds_binned.npy')\n",
    "noise_binned=np.load('/home/iloveorcas/MASS_Thesis/HI/noise_binned.npy')\n",
    "c_hat=np.load('/home/iloveorcas/MASS_Thesis/HI/binned_empirical.npy')"
   ]
  },
  {
   "cell_type": "code",
   "execution_count": 5,
   "id": "7a3cb6cb",
   "metadata": {},
   "outputs": [
    {
     "name": "stdout",
     "output_type": "stream",
     "text": [
      "Is model PSD? True\n"
     ]
    }
   ],
   "source": [
    "def is_psd(P, tol=1e-15):\n",
    "    eigenvalues = np.linalg.eigvalsh(P)  # symmetric-optimized\n",
    "    return np.all(eigenvalues >= -tol) \n",
    "print(\"Is model PSD?\", is_psd(c_hat))"
   ]
  },
  {
   "cell_type": "code",
   "execution_count": 6,
   "id": "6d333f21",
   "metadata": {},
   "outputs": [
    {
     "data": {
      "text/plain": [
       "(51, 181, 181)"
      ]
     },
     "execution_count": 6,
     "metadata": {},
     "output_type": "execute_result"
    }
   ],
   "source": [
    "fgds_binned.shape"
   ]
  },
  {
   "cell_type": "code",
   "execution_count": 7,
   "id": "981d109d",
   "metadata": {},
   "outputs": [],
   "source": [
    "def pca(empirical, r):\n",
    "    \"\"\"\n",
    "    Perform PCA on the covariance matrix.\n",
    "    \n",
    "    Parameters:\n",
    "    ----------\n",
    "    c_hat : np.ndarray\n",
    "        Covariance matrix of shape (n_bins, n_freq, n_freq).\n",
    "    \n",
    "    r : int\n",
    "        Number of principal components to retain.\n",
    "    \n",
    "    Returns:\n",
    "    -------\n",
    "    F : np.ndarray\n",
    "        Matrix of shape (n_freq, r) containing the principal components.\n",
    "    \n",
    "    P_b : np.ndarray\n",
    "        Matrix of shape (n_bins, r, r) containing the eigenvalues and eigenvectors.\n",
    "    \"\"\"\n",
    "    # Perform PCA\n",
    "    R_global = np.mean(empirical, axis=0)  # c_hat has shape (n_bins, n_freqs, n_freqs)\n",
    "    #eigen decompositiom\n",
    "    eigvals, eigvecs = np.linalg.eigh(R_global) #ascending order\n",
    "    #Take the top r eigenvectors:\n",
    "    F_i = eigvecs[:, -r:]  # largest eigenvectors\n",
    "    epsilon=1e-6\n",
    "\n",
    "    P_b = np.zeros((n_bins, r, r))\n",
    "    for b in range(n_bins):\n",
    "        P_b[b] =np.dot( F_i.T , np.dot(empirical[b] , F_i)) #projecting the empirical covariance into the subspace spanned by F.\n",
    "        P_b[b] = 0.5 * (P_b[b] + P_b[b].T) + epsilon * np.eye(r)\n",
    "    return eigvals,F_i, P_b*231\n"
   ]
  },
  {
   "cell_type": "code",
   "execution_count": 8,
   "id": "d8dd4210",
   "metadata": {},
   "outputs": [],
   "source": [
    "def pca_extended_random_fill(empirical, r_total, r_extra):\n",
    "    \"\"\"\n",
    "    PCA initialization where P_b is projected only on the top-r components, and the rest is filled with small random values.\n",
    "\n",
    "    Parameters\n",
    "    ----------\n",
    "    empirical : np.ndarray\n",
    "        Empirical covariance of shape (n_bins, n_freqs, n_freqs)\n",
    "    r : int\n",
    "        Number of principal components to use for projection\n",
    "    r_extra : int\n",
    "        Number of extra components to pad (not projected)\n",
    "    epsilon : float\n",
    "        Small diagonal regularization\n",
    "    scale : float\n",
    "        Scaling of the projected P_b\n",
    "    random_seed : int\n",
    "        For reproducibility\n",
    "\n",
    "    Returns\n",
    "    -------\n",
    "    eigvals : np.ndarray\n",
    "        Eigenvalues of global empirical covariance\n",
    "    F_i : np.ndarray\n",
    "        (n_freqs, r + r_extra) eigenvector basis\n",
    "    P_b : np.ndarray\n",
    "        (n_bins, r + r_extra, r + r_extra) initial covariance in new basis\n",
    "    \"\"\"\n",
    "    epsilon=1e-6\n",
    "    scale=100\n",
    "    random_seed=42\n",
    "    np.random.seed(random_seed)\n",
    "    n_bins, n_freqs, _ = empirical.shape\n",
    "    R_global = np.mean(empirical, axis=0)\n",
    "\n",
    "    # Eigen decomposition\n",
    "    eigvals, eigvecs = np.linalg.eigh(R_global)\n",
    "    r =r_total-r_extra\n",
    "\n",
    "    # Take top r + r_extra eigenvectors\n",
    "    F_i = eigvecs[:, -r_total:]  # (n_freqs, r_total)\n",
    "\n",
    "    # Initialize P_b\n",
    "    P_b = np.zeros((n_bins, r_total, r_total))\n",
    "    P_psd=np.zeros((n_bins, r_total, r_total))\n",
    "\n",
    "    for b in range(n_bins):\n",
    "        # Project empirical onto first r components\n",
    "        Pb_projected = np.dot(F_i[:, :r].T, np.dot( empirical[b] ,F_i[:, :r]))\n",
    "        Pb_projected = 0.5 * (Pb_projected + Pb_projected.T)  #symmetry\n",
    "\n",
    "        #projected part\n",
    "        P_b[b, :r, :r] = Pb_projected * scale\n",
    "\n",
    "        # Fill remaining block (r:r_total, r:r_total) with small random positive values\n",
    "        rand_block = np.random.rand(r_extra, r_extra)* epsilon\n",
    "        \n",
    "        rand_block = 0.5 * (rand_block + rand_block.T) # symmetrize\n",
    "        P_b[b, r:, r:] = rand_block\n",
    "        \n",
    "        w, V = np.linalg.eigh(P_b[b])\n",
    "        w_clipped = np.clip(w, 0, None)   # set negatives to zero\n",
    "        P_psd[b] = V @ np.diag(w_clipped) @ V.T\n",
    "\n",
    "        # Optionally: set off-diagonal coupling blocks to zero (decoupled initialization)\n",
    "        # P_b[b, :r, r:] = 0\n",
    "        # P_b[b, r:, :r] = 0\n",
    "\n",
    "    return eigvals, F_i, P_psd\n"
   ]
  },
  {
   "cell_type": "code",
   "execution_count": 9,
   "id": "d7b9ecc2",
   "metadata": {},
   "outputs": [],
   "source": [
    "def guess_params(nfreqs,n_bins, r):\n",
    "    \n",
    "    #Initial guess for F\n",
    "    # F_i= np.zeros((nfreqs, r))# N_channels x r\n",
    "    F_i= np.random.randn(nfreqs, r)\n",
    "\n",
    "    # initial guess for P_l for each bin\n",
    "    P_l=np.zeros((n_bins, r,r))\n",
    "    for bin in range(n_bins):\n",
    "        A = np.random.randn(r, r)\n",
    "        # P_l[bin,:,:]= np.identity(r) #r x r #symmetric\n",
    "        P_l[bin,:,:]=np.dot(A , A.T) + 1e-2 * np.eye(r) #strictly positive definite + symmetric\n",
    "    return F_i, P_l\n"
   ]
  },
  {
   "cell_type": "code",
   "execution_count": null,
   "id": "fec05712",
   "metadata": {},
   "outputs": [
    {
     "name": "stdout",
     "output_type": "stream",
     "text": [
      "(181, 3)\n",
      "(51, 3, 3)\n"
     ]
    }
   ],
   "source": [
    "_,F_pca, P_b_pca = pca(c_hat,r)\n",
    "# F_pca, P_b_pca=guess_params(nfreqs, n_bins,r)\n",
    "# e,F_pca, P_b_pca = pca_extended_random_fill(c_hat,5,2)\n",
    "print(F_pca.shape)\n",
    "print(P_b_pca.shape)\n",
    "params_pca = np.concatenate([F_pca.flatten(), P_b_pca.flatten()])\n",
    "# print(params_pca.shape)\n",
    "\n",
    "# # Check recovery\n",
    "# F_re = params_pca[:nfreqs * r].reshape((nfreqs, r))\n",
    "# P_b_re = params_pca[nfreqs * r:].reshape((n_bins, r, r))\n",
    "# print(F_re.shape)\n",
    "# print(P_b_re.shape)\n",
    "# print(F_re.size)\n",
    "# print(P_b_re.size)\n",
    "\n",
    "# np.allclose(F_pca, F_re)  # should return True\n",
    "# np.allclose(P_b_pca, P_b_re)  # should return True\n"
   ]
  },
  {
   "cell_type": "code",
   "execution_count": 9,
   "id": "040a8b9c",
   "metadata": {},
   "outputs": [],
   "source": [
    "def model_covariance(F, P_b, C_noise, n_bins):\n",
    "    \n",
    "    # F: (N_channels, r), P_b: (r, r), C_HI & C_noise: (N_channels, N_channels)\n",
    "    C_b= np.zeros((n_bins, nfreqs, nfreqs))\n",
    "    for b in range(n_bins):\n",
    "        C_b[b,:,:]= C_noise[b,:,:] + np.dot(F,np.dot(P_b[b,:,:], F.T))\n",
    "    return C_b"
   ]
  },
  {
   "cell_type": "code",
   "execution_count": 10,
   "id": "807cdcb4",
   "metadata": {},
   "outputs": [],
   "source": [
    "c_model= model_covariance(F_pca, P_b_pca,noise_binned, n_bins)"
   ]
  },
  {
   "cell_type": "code",
   "execution_count": 55,
   "id": "efb2840c",
   "metadata": {},
   "outputs": [
    {
     "data": {
      "text/plain": [
       "array([8.73653714e+00, 2.15532438e+00, 1.07884916e+00, 7.56783442e-01,\n",
       "       4.80775529e-01, 3.47542035e-01, 2.53263454e-01, 2.16582096e-01,\n",
       "       1.61889521e-01, 1.47693329e-01, 1.08872451e-01, 9.67544680e-02,\n",
       "       7.36156591e-02, 6.15138780e-02, 5.46779533e-02, 4.64959970e-02,\n",
       "       4.05263975e-02, 3.34477858e-02, 2.83554736e-02, 2.47494595e-02,\n",
       "       1.89494293e-02, 1.64118633e-02, 1.31346601e-02, 1.17417566e-02,\n",
       "       1.08748316e-02, 8.87329945e-03, 7.39742453e-03, 6.58290043e-03,\n",
       "       5.48934050e-03, 5.31864216e-03, 4.59317701e-03, 4.55826438e-03,\n",
       "       4.07554698e-03, 3.69868681e-03, 3.06697672e-03, 3.03764932e-03,\n",
       "       2.63911130e-03, 2.51382695e-03, 2.26503855e-03, 2.09025700e-03,\n",
       "       2.00118326e-03, 1.94588029e-03, 1.69091005e-03, 1.50160689e-03,\n",
       "       1.46460064e-03, 1.34989944e-03, 1.18576430e-03, 1.12484919e-03,\n",
       "       1.01011425e-03, 9.78540910e-04, 8.94023048e-04])"
      ]
     },
     "execution_count": 55,
     "metadata": {},
     "output_type": "execute_result"
    }
   ],
   "source": [
    "fgds_binned[:,0,0]/ noise_binned[:,0,0]"
   ]
  },
  {
   "cell_type": "code",
   "execution_count": 13,
   "id": "3d8dad9a",
   "metadata": {},
   "outputs": [
    {
     "data": {
      "text/plain": [
       "<matplotlib.legend.Legend at 0xff150d4bcf40>"
      ]
     },
     "execution_count": 13,
     "metadata": {},
     "output_type": "execute_result"
    },
    {
     "data": {
      "image/png": "[encoded data removed]",
      "text/plain": [
       "<Figure size 640x480 with 1 Axes>"
      ]
     },
     "metadata": {},
     "output_type": "display_data"
    }
   ],
   "source": [
    "plt.plot(c_hat[:,10,10], label='c_hat')\n",
    "plt.plot(c_model[:,10,10], label='c_model')\n",
    "plt.plot(fgds_binned[:,10,10], label='fgds_binned')\n",
    "plt.plot(noise_binned[:,10,10], label='noise_binned')\n",
    "\n",
    "plt.yscale('log')\n",
    "plt.legend()"
   ]
  },
  {
   "cell_type": "code",
   "execution_count": 14,
   "id": "eab51bee",
   "metadata": {},
   "outputs": [
    {
     "name": "stdout",
     "output_type": "stream",
     "text": [
      "Is model PSD? True\n"
     ]
    }
   ],
   "source": [
    "def is_psd(P, tol=0):\n",
    "    eigenvalues = np.linalg.eigvalsh(P)  # symmetric-optimized\n",
    "    return np.all(eigenvalues >= -tol)  \n",
    "print(\"Is model PSD?\", is_psd(c_model))"
   ]
  },
  {
   "cell_type": "code",
   "execution_count": 15,
   "id": "605b1850",
   "metadata": {},
   "outputs": [],
   "source": [
    "def smica(params, noise,empirical,  n_bins, nfreqs, r):\n",
    "    \n",
    "    # Reshape the flattened params back into F_init and P_b_init\n",
    "    \n",
    "    F_i = params[:nfreqs * r].reshape((nfreqs, r))\n",
    "    P_b = params[nfreqs * r:].reshape((n_bins,r,r))\n",
    "    \n",
    "    \n",
    "    \"\"\"# === Normalize columns of F and rescale P accordingly ===\n",
    "    for i in range(r):\n",
    "        norm = np.linalg.norm(F[:, i])\n",
    "\n",
    "        F[:, i] /= norm  # normalize column\n",
    "        for b in range(n_bins):\n",
    "            P_b[b, i, :] *= norm\n",
    "            P_b[b, :, i] *= norm  # symmetric scaling\"\"\"\n",
    "    \n",
    "    \n",
    "    # norm = np.linalg.norm(F, axis=0)\n",
    "    \n",
    "    # # Normalize F\n",
    "    # F_normalized = F / norm        \n",
    "    # # Adjust P_b: D^{-1} P_b D^{-1}\n",
    "    # D_inv = np.diag(1.0 / norm)\n",
    "    # for b in range(n_bins):\n",
    "    #     P_b[b] = D_inv @ P_b[b] @ D_inv\n",
    "                \n",
    "    # === Compute the cost function ===            \n",
    "    cost=0\n",
    "    # model=np.zeros((n_bins, nfreqs, nfreqs))\n",
    "    # model_inv=np.zeros((n_bins, nfreqs, nfreqs))\n",
    "    \n",
    "    # term=np.zeros(n_bins)\n",
    "    for b in range(n_bins):\n",
    "        model=  noise[b] + np.dot(F_i, np.dot(P_b[b], F_i.T))\n",
    "        model_inv= np.linalg.inv(model)\n",
    "        \n",
    "        sign, logdet= np.linalg.slogdet(np.dot(empirical[b],model_inv))\n",
    "        trace=np.trace(np.dot(empirical[b] , model_inv))\n",
    "        \n",
    "        term = -logdet + trace-nfreqs\n",
    "        cost += term\n",
    "        \n",
    "    return cost"
   ]
  },
  {
   "cell_type": "code",
   "execution_count": 16,
   "id": "b2272932",
   "metadata": {},
   "outputs": [
    {
     "data": {
      "text/plain": [
       "np.float64(2386.919033999015)"
      ]
     },
     "execution_count": 16,
     "metadata": {},
     "output_type": "execute_result"
    }
   ],
   "source": [
    "smica(params_pca, noise_binned, c_hat, n_bins, nfreqs, r_total)"
   ]
  },
  {
   "cell_type": "code",
   "execution_count": 17,
   "id": "ec11bd88",
   "metadata": {},
   "outputs": [],
   "source": [
    "def norm_constraints(params, nfreqs, r, n_bins):\n",
    "    F_i= params[:nfreqs * r].reshape((nfreqs, r))\n",
    "    norm=np.zeros(r)\n",
    "    for j in range(r):\n",
    "        norm[j]=np.linalg.norm(F_i[:,j])\n",
    "    return norm"
   ]
  },
  {
   "cell_type": "code",
   "execution_count": 18,
   "id": "191865ad",
   "metadata": {},
   "outputs": [],
   "source": [
    "from scipy.optimize import NonlinearConstraint\n",
    "\n",
    "constraint = NonlinearConstraint(\n",
    "    lambda params_pca: norm_constraints(params_pca, nfreqs, r_total, n_bins),\n",
    "    lb=np.ones(r_total),  # lower bounds = 1\n",
    "    ub=np.ones(r_total)   # upper bounds = 1 → equality constraint\n",
    ")"
   ]
  },
  {
   "cell_type": "code",
   "execution_count": 19,
   "id": "71da37c9",
   "metadata": {},
   "outputs": [
    {
     "data": {
      "text/plain": [
       "np.float64(1.0)"
      ]
     },
     "execution_count": 19,
     "metadata": {},
     "output_type": "execute_result"
    }
   ],
   "source": [
    "np.linalg.norm(F_pca[:, 1])"
   ]
  },
  {
   "cell_type": "code",
   "execution_count": 17,
   "id": "ecd8fb1f",
   "metadata": {},
   "outputs": [],
   "source": [
    "def jacobian_2(params, noise,  empirical, n_bins, nfreqs, r):\n",
    "    \n",
    "    delta_ell=10\n",
    "    # Reshape the flattened params back into F_init and P_b_init\n",
    "    F = params[:nfreqs * r].reshape((nfreqs, r))\n",
    "    P_b = params[nfreqs * r:].reshape((n_bins,r,r))\n",
    "    \n",
    "    \"\"\"# === Normalize columns of F and rescale P accordingly ===\n",
    "    for i in range(r):\n",
    "        norm = np.linalg.norm(F[:, i])\n",
    "        \n",
    "        F[:, i] /= norm  # normalize column\n",
    "        for b in range(n_bins):\n",
    "            # Scale row i and column i of P_b[b] accordingly\n",
    "            P_b[b, i, :] *= norm\n",
    "            P_b[b, :, i] *= norm \"\"\"\n",
    "            \n",
    "    # Compute norms of each column of F\n",
    "    # norm = np.linalg.norm(F, axis=0)\n",
    "    \n",
    "    # # Normalize F\n",
    "    # F_normalized = F / norm        \n",
    "    # # Adjust P_b: D^{-1} P_b D^{-1}\n",
    "    # D_inv = np.diag(1.0 / norm)\n",
    "    # for b in range(n_bins):\n",
    "    #     P_b[b] = D_inv @ P_b[b] @ D_inv\n",
    "    \n",
    "    grad_P=np.zeros_like(P_b) # Derivative wrt P_b\n",
    "    grad_F=np.zeros_like(F) # Derivative wrt F\n",
    "    \n",
    "    for b in range(n_bins):\n",
    "        \n",
    "        R= noise[b]+np.dot(F, np.dot(P_b[b], F.T)) # model covariance depending on only unknown parameters\n",
    "        \"\"\"try:\n",
    "            R_inv = np.linalg.inv(R)\n",
    "        except np.linalg.LinAlgError:\n",
    "            # Optional: add small regularization to make model invertible\n",
    "            R += 1e-6 * np.identity(nfreqs)\n",
    "            R_inv = np.linalg.inv(R)\"\"\"\n",
    "        R_inv= np.linalg.inv(R)\n",
    "        \n",
    "        Delta= R_inv - np.dot(R_inv,np.dot(empirical[b], R_inv)) #nf x nf\n",
    "\n",
    "        # ∂φ/∂P_q \n",
    "        grad_P[b,:,:]= np.dot(F.T, np.dot(Delta, F)) # (r,r)\n",
    "        # ∂φ/∂F\n",
    "        grad_F += 2*np.dot(Delta, np.dot(F, P_b[b])) # (nf,r)\n",
    "        \n",
    "    # Flatten the gradients\n",
    "    grad_P_flat = grad_P.flatten()\n",
    "    grad_F_flat = grad_F.flatten()\n",
    "    # print(grad_F_flat.shape)\n",
    "    # print(grad_P_flat.shape)\n",
    "    grad_total= np.concatenate([grad_F_flat.flatten(), grad_P_flat.flatten()])\n",
    "    return grad_total"
   ]
  },
  {
   "cell_type": "code",
   "execution_count": 18,
   "id": "804ff494",
   "metadata": {},
   "outputs": [
    {
     "data": {
      "text/plain": [
       "array([ 2.42206982e+00, -1.69314128e+00,  9.68284470e+00, ...,\n",
       "       -2.92338212e-04, -2.32420365e-03,  1.42075500e-01], shape=(1002,))"
      ]
     },
     "execution_count": 18,
     "metadata": {},
     "output_type": "execute_result"
    }
   ],
   "source": [
    "jacobian_2(params_pca, noise_binned, c_hat, n_bins, nfreqs, r_total)"
   ]
  },
  {
   "cell_type": "code",
   "execution_count": 22,
   "id": "52a6aa49",
   "metadata": {},
   "outputs": [],
   "source": [
    "def fin_diff_fun(params_pca, noise_binned, c_hat, n_bins, nfreqs, r):\n",
    "    fin_diff= np.load('approx_grad_2.npy')\n",
    "    return fin_diff\n",
    "    "
   ]
  },
  {
   "cell_type": "code",
   "execution_count": 161,
   "id": "fe2cf40b",
   "metadata": {},
   "outputs": [],
   "source": [
    "def auto_grad_fun(params_pca, noise_binned, c_hat, n_bins, nfreqs, r):\n",
    "    auto_grad= np.load('autograd1.npy')\n",
    "    return auto_grad"
   ]
  },
  {
   "cell_type": "code",
   "execution_count": 112,
   "id": "c13006b1",
   "metadata": {},
   "outputs": [],
   "source": [
    "import autograd.numpy as np\n",
    "from autograd import grad\n",
    "\n",
    "auto_grad=grad(smica)"
   ]
  },
  {
   "cell_type": "code",
   "execution_count": 19,
   "id": "118ea011",
   "metadata": {},
   "outputs": [
    {
     "name": "stdout",
     "output_type": "stream",
     "text": [
      "| niter |f evals|CG iter|  obj func   |tr radius |   opt    |  c viol  |\n",
      "|-------|-------|-------|-------------|----------|----------|----------|\n",
      "|   1   |   1   |   0   | +2.3869e+03 | 1.00e+00 | 2.35e+01 | 0.00e+00 |\n",
      "|   2   |   2   |   1   | +2.1445e+03 | 7.00e+00 | 3.25e+02 | 0.00e+00 |\n",
      "|   3   |   3   |   2   | +2.1445e+03 | 7.00e-01 | 3.25e+02 | 0.00e+00 |\n",
      "|   4   |   4   |   4   | +2.0844e+03 | 1.80e+00 | 2.05e+02 | 0.00e+00 |\n",
      "|   5   |   5   |   7   | +2.0844e+03 | 1.96e-01 | 2.05e+02 | 0.00e+00 |\n",
      "|   6   |   6   |   9   | +1.9825e+03 | 1.37e+00 | 1.80e+02 | 0.00e+00 |\n",
      "|   7   |   7   |  14   | +1.9825e+03 | 3.04e-01 | 1.80e+02 | 0.00e+00 |\n",
      "|   8   |   8   |  17   | +1.9042e+03 | 6.08e-01 | 1.57e+02 | 0.00e+00 |\n",
      "|   9   |   9   |  23   | +1.9042e+03 | 1.21e-01 | 1.57e+02 | 0.00e+00 |\n",
      "|  10   |  10   |  25   | +1.9012e+03 | 1.21e-01 | 2.04e+02 | 0.00e+00 |\n",
      "|  11   |  11   |  27   | +1.8811e+03 | 2.41e-01 | 1.31e+02 | 0.00e+00 |\n",
      "|  12   |  12   |  34   | +1.8811e+03 | 4.92e-02 | 1.31e+02 | 0.00e+00 |\n",
      "|  13   |  13   |  35   | +1.8710e+03 | 3.45e-01 | 1.84e+02 | 0.00e+00 |\n",
      "|  14   |  14   |  42   | +1.8710e+03 | 3.88e-02 | 1.84e+02 | 0.00e+00 |\n",
      "|  15   |  15   |  43   | +1.8687e+03 | 7.75e-02 | 1.88e+02 | 0.00e+00 |\n",
      "|  16   |  16   |  45   | +1.8558e+03 | 5.43e-01 | 2.02e+02 | 0.00e+00 |\n",
      "|  17   |  17   |  54   | +1.8558e+03 | 5.43e-02 | 2.02e+02 | 0.00e+00 |\n",
      "|  18   |  18   |  56   | +1.8476e+03 | 1.09e-01 | 2.62e+02 | 0.00e+00 |\n",
      "|  19   |  19   |  58   | +1.8476e+03 | 3.36e-02 | 2.62e+02 | 0.00e+00 |\n",
      "|  20   |  20   |  60   | +1.8368e+03 | 2.35e-01 | 7.80e+01 | 0.00e+00 |\n",
      "|  21   |  21   |  62   | +1.8368e+03 | 5.32e-02 | 7.80e+01 | 0.00e+00 |\n",
      "|  22   |  22   |  64   | +1.8291e+03 | 1.06e-01 | 4.72e+02 | 0.00e+00 |\n",
      "|  23   |  23   |  66   | +1.8291e+03 | 3.51e-02 | 4.72e+02 | 0.00e+00 |\n",
      "|  24   |  24   |  68   | +1.8268e+03 | 3.51e-02 | 4.02e+02 | 0.00e+00 |\n",
      "|  25   |  25   |  69   | +1.8232e+03 | 3.51e-02 | 7.58e+02 | 0.00e+00 |\n",
      "|  26   |  26   |  72   | +1.8081e+03 | 2.46e-01 | 2.05e+02 | 0.00e+00 |\n",
      "|  27   |  27   |  76   | +1.8081e+03 | 3.32e-02 | 2.05e+02 | 0.00e+00 |\n",
      "|  28   |  28   |  78   | +1.8081e+03 | 1.66e-02 | 2.05e+02 | 0.00e+00 |\n",
      "|  29   |  29   |  79   | +1.8081e+03 | 8.29e-03 | 2.05e+02 | 0.00e+00 |\n",
      "|  30   |  30   |  80   | +1.8051e+03 | 1.66e-02 | 7.77e+01 | 0.00e+00 |\n",
      "|  31   |  31   |  81   | +1.8006e+03 | 1.16e-01 | 8.11e+01 | 0.00e+00 |\n",
      "|  32   |  32   |  83   | +1.8006e+03 | 5.80e-02 | 8.11e+01 | 0.00e+00 |\n",
      "|  33   |  33   |  86   | +1.7797e+03 | 4.06e-01 | 2.11e+02 | 0.00e+00 |\n",
      "|  34   |  34   |  92   | +1.7797e+03 | 4.06e-02 | 2.11e+02 | 0.00e+00 |\n",
      "|  35   |  35   |  94   | +1.7797e+03 | 1.29e-02 | 2.11e+02 | 0.00e+00 |\n",
      "|  36   |  36   |  95   | +1.7738e+03 | 2.58e-02 | 2.23e+02 | 0.00e+00 |\n",
      "|  37   |  37   |  97   | +1.7738e+03 | 1.29e-02 | 2.23e+02 | 0.00e+00 |\n",
      "|  38   |  38   |  99   | +1.7650e+03 | 9.04e-02 | 1.43e+02 | 0.00e+00 |\n",
      "|  39   |  39   |  102  | +1.7650e+03 | 1.48e-02 | 1.43e+02 | 0.00e+00 |\n",
      "|  40   |  40   |  104  | +1.7622e+03 | 2.96e-02 | 7.70e+02 | 0.00e+00 |\n",
      "|  41   |  41   |  108  | +1.7622e+03 | 6.88e-03 | 7.70e+02 | 0.00e+00 |\n",
      "|  42   |  42   |  110  | +1.7614e+03 | 6.88e-03 | 2.43e+02 | 0.00e+00 |\n",
      "|  43   |  43   |  111  | +1.7597e+03 | 1.38e-02 | 3.21e+02 | 0.00e+00 |\n",
      "|  44   |  44   |  113  | +1.7511e+03 | 9.63e-02 | 7.34e+02 | 0.00e+00 |\n",
      "|  45   |  45   |  117  | +1.7511e+03 | 9.63e-03 | 7.34e+02 | 0.00e+00 |\n",
      "|  46   |  46   |  120  | +1.7511e+03 | 4.81e-03 | 7.34e+02 | 0.00e+00 |\n",
      "|  47   |  47   |  122  | +1.7496e+03 | 9.63e-03 | 1.21e+02 | 0.00e+00 |\n",
      "|  48   |  48   |  125  | +1.7496e+03 | 4.81e-03 | 1.21e+02 | 0.00e+00 |\n",
      "|  49   |  49   |  128  | +1.7496e+03 | 2.41e-03 | 1.21e+02 | 0.00e+00 |\n",
      "|  50   |  50   |  129  | +1.7476e+03 | 1.69e-02 | 7.23e+01 | 0.00e+00 |\n",
      "|  51   |  51   |  133  | +1.7476e+03 | 5.57e-03 | 7.23e+01 | 0.00e+00 |\n",
      "|  52   |  52   |  134  | +1.7434e+03 | 3.90e-02 | 6.34e+01 | 0.00e+00 |\n",
      "|  53   |  53   |  137  | +1.7434e+03 | 5.91e-03 | 6.34e+01 | 0.00e+00 |\n",
      "|  54   |  54   |  138  | +1.7434e+03 | 2.96e-03 | 6.34e+01 | 0.00e+00 |\n",
      "|  55   |  55   |  139  | +1.7406e+03 | 2.07e-02 | 8.62e+01 | 0.00e+00 |\n",
      "|  56   |  56   |  140  | +1.7353e+03 | 4.14e-02 | 1.29e+03 | 0.00e+00 |\n",
      "|  57   |  57   |  143  | +1.7353e+03 | 6.08e-03 | 1.29e+03 | 0.00e+00 |\n",
      "|  58   |  58   |  145  | +1.7353e+03 | 3.04e-03 | 1.29e+03 | 0.00e+00 |\n",
      "|  59   |  59   |  146  | +1.7337e+03 | 6.08e-03 | 4.15e+02 | 0.00e+00 |\n",
      "|  60   |  60   |  148  | +1.7337e+03 | 3.04e-03 | 4.15e+02 | 0.00e+00 |\n",
      "|  61   |  61   |  150  | +1.7321e+03 | 2.13e-02 | 3.74e+02 | 0.00e+00 |\n",
      "|  62   |  62   |  154  | +1.7321e+03 | 6.44e-03 | 3.74e+02 | 0.00e+00 |\n",
      "|  63   |  63   |  156  | +1.7309e+03 | 1.29e-02 | 5.33e+02 | 0.00e+00 |\n",
      "|  64   |  64   |  159  | +1.7309e+03 | 2.18e-03 | 5.33e+02 | 0.00e+00 |\n",
      "|  65   |  65   |  160  | +1.7284e+03 | 1.53e-02 | 2.33e+02 | 0.00e+00 |\n",
      "|  66   |  66   |  162  | +1.7284e+03 | 2.37e-03 | 2.33e+02 | 0.00e+00 |\n",
      "|  67   |  67   |  164  | +1.7284e+03 | 1.19e-03 | 2.33e+02 | 0.00e+00 |\n",
      "|  68   |  68   |  166  | +1.7280e+03 | 8.30e-03 | 1.76e+02 | 0.00e+00 |\n",
      "|  69   |  69   |  168  | +1.7267e+03 | 1.66e-02 | 1.80e+03 | 0.00e+00 |\n",
      "|  70   |  70   |  175  | +1.7267e+03 | 1.66e-03 | 1.80e+03 | 0.00e+00 |\n",
      "|  71   |  71   |  176  | +1.7267e+03 | 8.30e-04 | 1.80e+03 | 0.00e+00 |\n",
      "|  72   |  72   |  177  | +1.7256e+03 | 1.66e-03 | 1.12e+03 | 0.00e+00 |\n",
      "|  73   |  73   |  179  | +1.7256e+03 | 6.31e-04 | 1.12e+03 | 0.00e+00 |\n",
      "|  74   |  74   |  180  | +1.7256e+03 | 1.25e-04 | 1.12e+03 | 0.00e+00 |\n",
      "|  75   |  75   |  181  | +1.7256e+03 | 1.29e-05 | 1.12e+03 | 0.00e+00 |\n",
      "|  76   |  76   |  182  | +1.7256e+03 | 1.29e-06 | 1.12e+03 | 0.00e+00 |\n",
      "|  77   |  77   |  183  | +1.7256e+03 | 1.29e-07 | 1.12e+03 | 0.00e+00 |\n",
      "|  78   |  78   |  184  | +1.7256e+03 | 1.29e-08 | 1.12e+03 | 0.00e+00 |\n",
      "|  79   |  79   |  185  | +1.7256e+03 | 1.29e-09 | 1.12e+03 | 0.00e+00 |\n",
      "|  80   |  80   |  186  | +1.7256e+03 | 1.29e-10 | 1.12e+03 | 0.00e+00 |\n",
      "|  81   |  81   |  187  | +1.7256e+03 | 1.29e-11 | 1.12e+03 | 0.00e+00 |\n",
      "\n",
      "`xtol` termination condition is satisfied.\n",
      "Number of iterations: 81, function evaluations: 81, CG iterations: 187, optimality: 1.12e+03, constraint violation: 0.00e+00, execution time: 3.2e+01 s.\n"
     ]
    }
   ],
   "source": [
    "res = optimize.minimize(\n",
    "    smica,\n",
    "    x0=params_pca,\n",
    "    args=( noise_binned,c_hat, n_bins, nfreqs,r_total),\n",
    "    method='trust-constr',\n",
    "    \n",
    "    jac=jacobian_2,\n",
    "    # options={'ftol' : 1e-11, 'gtol': 1e-11, 'maxcor':20,'maxls': 1000}\n",
    "    options={'disp': True, 'maxiter':100, 'gtol':1e-1, 'xtol':1e-10,'barrier_tol': 1e-6, 'verbose': 2}\n",
    ")"
   ]
  },
  {
   "cell_type": "code",
   "execution_count": 20,
   "id": "14c9650e",
   "metadata": {},
   "outputs": [
    {
     "name": "stdout",
     "output_type": "stream",
     "text": [
      "          message: `xtol` termination condition is satisfied.\n",
      "          success: True\n",
      "           status: 2\n",
      "              fun: 1725.5930702006494\n",
      "                x: [-2.419e-03 -1.685e-03 ...  1.055e-01  6.981e+00]\n",
      "              nit: 81\n",
      "             nfev: 81\n",
      "             njev: 81\n",
      "             nhev: 0\n",
      "         cg_niter: 187\n",
      "     cg_stop_cond: 2\n",
      "             grad: [-7.525e+00 -5.199e+00 ... -8.624e-03  2.980e-02]\n",
      "  lagrangian_grad: [-7.525e+00 -5.199e+00 ... -8.624e-03  2.980e-02]\n",
      "           constr: []\n",
      "              jac: []\n",
      "      constr_nfev: []\n",
      "      constr_njev: []\n",
      "      constr_nhev: []\n",
      "                v: []\n",
      "           method: equality_constrained_sqp\n",
      "       optimality: 1117.1683700846502\n",
      " constr_violation: 0\n",
      "   execution_time: 32.40796756744385\n",
      "        tr_radius: 1.2925264033532193e-11\n",
      "   constr_penalty: 1.0\n",
      "            niter: 81\n"
     ]
    }
   ],
   "source": [
    "from pprint import pprint\n",
    "pprint(res)"
   ]
  },
  {
   "cell_type": "code",
   "execution_count": 33,
   "id": "4cb903e6",
   "metadata": {},
   "outputs": [
    {
     "name": "stdout",
     "output_type": "stream",
     "text": [
      "(1002,)\n",
      "(51, 3, 3)\n",
      "(181, 3)\n"
     ]
    }
   ],
   "source": [
    "result=res.x\n",
    "print(result.shape)\n",
    "P_b_out = result[nfreqs*r_total:].reshape((n_bins,r_total, r_total))\n",
    "F_out = result[:nfreqs*r_total].reshape((nfreqs, r_total))\n",
    "print(P_b_out.shape)\n",
    "print(F_out.shape)\n",
    "C_result=np.zeros_like(c_hat)\n",
    "for b in range(n_bins):\n",
    "    \n",
    "    C_result[b]=np.dot(F_out, np.dot(P_b_out[b], F_out.T))\n"
   ]
  },
  {
   "cell_type": "code",
   "execution_count": 22,
   "id": "617342dd",
   "metadata": {},
   "outputs": [
    {
     "data": {
      "text/plain": [
       "np.True_"
      ]
     },
     "execution_count": 22,
     "metadata": {},
     "output_type": "execute_result"
    }
   ],
   "source": [
    "np.all(np.linalg.eigvals(C_result) >=0)"
   ]
  },
  {
   "cell_type": "code",
   "execution_count": 23,
   "id": "68f710c5",
   "metadata": {},
   "outputs": [
    {
     "data": {
      "text/plain": [
       "np.True_"
      ]
     },
     "execution_count": 23,
     "metadata": {},
     "output_type": "execute_result"
    }
   ],
   "source": [
    "np.all(np.linalg.eigvals(P_b_pca) >=0)"
   ]
  },
  {
   "cell_type": "code",
   "execution_count": 67,
   "id": "d13dce8b",
   "metadata": {},
   "outputs": [
    {
     "data": {
      "text/plain": [
       "<matplotlib.legend.Legend at 0xff15097570d0>"
      ]
     },
     "execution_count": 67,
     "metadata": {},
     "output_type": "execute_result"
    },
    {
     "data": {
      "image/png": "[encoded data removed]",
      "text/plain": [
       "<Figure size 640x480 with 1 Axes>"
      ]
     },
     "metadata": {},
     "output_type": "display_data"
    }
   ],
   "source": [
    "plt.plot(leff,C_result[:,10,10],'k.', label=\"result covariance\")\n",
    "# plt.plot(leff,c_hat[:,10,10], label=\"empirical covariance\")\n",
    "plt.plot(leff,c_model[:,10,10], label=\"model covaraince\")\n",
    "\n",
    "plt.plot(leff,noise_binned[:,10,10], label=\"noise covariance\")\n",
    "plt.plot(leff, fgds_binned[:,10,10], label=\"synch+ff cl\")\n",
    "plt.yscale('log')\n",
    "plt.legend()"
   ]
  },
  {
   "cell_type": "code",
   "execution_count": 45,
   "id": "9296b657",
   "metadata": {},
   "outputs": [
    {
     "name": "stdout",
     "output_type": "stream",
     "text": [
      "inf\n"
     ]
    },
    {
     "name": "stderr",
     "output_type": "stream",
     "text": [
      "/tmp/ipykernel_595/1594427546.py:1: RuntimeWarning: divide by zero encountered in divide\n",
      "  snr=np.mean(fgds_binned[0]/noise_binned[0])\n"
     ]
    }
   ],
   "source": [
    "snr=np.mean(fgds_binned[0]/noise_binned[0])\n",
    "print(snr)"
   ]
  },
  {
   "cell_type": "code",
   "execution_count": 72,
   "id": "696b78e6",
   "metadata": {},
   "outputs": [
    {
     "data": {
      "image/png": "[encoded data removed]",
      "text/plain": [
       "<Figure size 640x480 with 1 Axes>"
      ]
     },
     "metadata": {},
     "output_type": "display_data"
    }
   ],
   "source": [
    "# plt.plot(leff,(C_result[:,10,10] - c_hat[:,10,10]))\n",
    "plt.plot(leff,( C_result[:,10,10]- fgds_binned[:,10,10]))\n",
    "# plt.ylim(-0.05,0.05)\n",
    "plt.axhline(0, color='r', linestyle='--')\n",
    "# plt.title('Difference between result and empirical covariance')\n",
    "plt.show()"
   ]
  },
  {
   "cell_type": "code",
   "execution_count": 26,
   "id": "17aa0d20",
   "metadata": {},
   "outputs": [
    {
     "data": {
      "text/plain": [
       "<matplotlib.lines.Line2D at 0xff150c537310>"
      ]
     },
     "execution_count": 26,
     "metadata": {},
     "output_type": "execute_result"
    },
    {
     "data": {
      "image/png": "[encoded data removed]",
      "text/plain": [
       "<Figure size 640x480 with 1 Axes>"
      ]
     },
     "metadata": {},
     "output_type": "display_data"
    }
   ],
   "source": [
    "plt.plot(leff,(-c_hat[:,0,0] +c_model[:,0,0]))\n",
    "# plt.ylim(-0.05,0.05)\n",
    "plt.axhline(0, color='r', linestyle='--')"
   ]
  }
 ],
 "metadata": {
  "kernelspec": {
   "display_name": "Python 3",
   "language": "python",
   "name": "python3"
  },
  "language_info": {
   "codemirror_mode": {
    "name": "ipython",
    "version": 3
   },
   "file_extension": ".py",
   "mimetype": "text/x-python",
   "name": "python",
   "nbconvert_exporter": "python",
   "pygments_lexer": "ipython3",
   "version": "3.10.12"
  }
 },
 "nbformat": 4,
 "nbformat_minor": 5
}
